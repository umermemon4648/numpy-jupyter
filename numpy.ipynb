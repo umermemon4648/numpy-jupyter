{
 "cells": [
  {
   "cell_type": "markdown",
   "id": "c9021262-3468-43e9-ac53-8616cd21e429",
   "metadata": {},
   "source": [
    "# Welcome to Nupmy"
   ]
  },
  {
   "cell_type": "code",
   "execution_count": 3,
   "id": "e13f9444-2061-4842-9789-939ef70d420f",
   "metadata": {},
   "outputs": [],
   "source": [
    "import numpy as np"
   ]
  },
  {
   "cell_type": "code",
   "execution_count": 4,
   "id": "6d0900f0-8374-4840-812d-6aed0f4566ea",
   "metadata": {},
   "outputs": [
    {
     "name": "stdout",
     "output_type": "stream",
     "text": [
      "Hello world\n"
     ]
    }
   ],
   "source": [
    "print(\"Hello world\")"
   ]
  },
  {
   "cell_type": "code",
   "execution_count": 5,
   "id": "75b6f2c8-39d1-422d-bccb-6bb0bcdb3a72",
   "metadata": {},
   "outputs": [],
   "source": [
    "arr = np.array([2,4,5,6])"
   ]
  },
  {
   "cell_type": "code",
   "execution_count": 6,
   "id": "7c90639b-2ec1-4ca0-9db9-33d5e1862d4d",
   "metadata": {},
   "outputs": [
    {
     "data": {
      "text/plain": [
       "array([2, 4, 5, 6])"
      ]
     },
     "execution_count": 6,
     "metadata": {},
     "output_type": "execute_result"
    }
   ],
   "source": [
    "arr"
   ]
  },
  {
   "cell_type": "code",
   "execution_count": 7,
   "id": "e5ad1b13-8fb4-4c86-86c5-f0daf81730d8",
   "metadata": {},
   "outputs": [
    {
     "data": {
      "text/plain": [
       "5"
      ]
     },
     "execution_count": 7,
     "metadata": {},
     "output_type": "execute_result"
    }
   ],
   "source": [
    "arr[2]"
   ]
  },
  {
   "cell_type": "code",
   "execution_count": 9,
   "id": "f49f64e1-73a4-4e06-b3a7-fd71f7365e18",
   "metadata": {},
   "outputs": [
    {
     "data": {
      "text/plain": [
       "(4,)"
      ]
     },
     "execution_count": 9,
     "metadata": {},
     "output_type": "execute_result"
    }
   ],
   "source": [
    "arr.shape"
   ]
  },
  {
   "cell_type": "code",
   "execution_count": 10,
   "id": "f56e55a5-6a98-4abd-85ff-f9616c4ae1ae",
   "metadata": {},
   "outputs": [
    {
     "data": {
      "text/plain": [
       "dtype('int32')"
      ]
     },
     "execution_count": 10,
     "metadata": {},
     "output_type": "execute_result"
    }
   ],
   "source": [
    "arr.dtype"
   ]
  },
  {
   "cell_type": "code",
   "execution_count": null,
   "id": "d4fc1460-eecd-4c82-b657-fb2054bfc71f",
   "metadata": {},
   "outputs": [],
   "source": []
  }
 ],
 "metadata": {
  "kernelspec": {
   "display_name": "Python 3 (ipykernel)",
   "language": "python",
   "name": "python3"
  },
  "language_info": {
   "codemirror_mode": {
    "name": "ipython",
    "version": 3
   },
   "file_extension": ".py",
   "mimetype": "text/x-python",
   "name": "python",
   "nbconvert_exporter": "python",
   "pygments_lexer": "ipython3",
   "version": "3.12.0"
  }
 },
 "nbformat": 4,
 "nbformat_minor": 5
}
